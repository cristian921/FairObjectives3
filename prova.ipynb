{
 "cells": [
  {
   "cell_type": "code",
   "execution_count": 29,
   "metadata": {
    "collapsed": true
   },
   "outputs": [],
   "source": [
    "import os\n",
    "import re\n",
    "import pandas as pd\n",
    "import json\n",
    "from pypfopt.efficient_frontier import EfficientFrontier\n",
    "from pypfopt import risk_models\n",
    "from pypfopt import expected_returns\n"
   ]
  },
  {
   "cell_type": "code",
   "execution_count": 30,
   "metadata": {},
   "outputs": [
    {
     "name": "stdout",
     "output_type": "stream",
     "text": [
      "{\n  \"ISCI328\": \"Azionari Africa\",\n  \"ISCI329\": \"Azionari Africa e Medio Oriente\",\n  \"ISCI2\": \"Azionari America Latina - Large & Mid Cap\",\n  \"ISCI4\": \"Azionari Area Euro - Large & Mid Cap\",\n  \"ISCI5\": \"Azionari Area Euro - Large & Mid Cap Value\",\n  \"ISCI6\": \"Azionari Area Euro - Mid & Small Cap\",\n  \"ISCI8\": \"Azionari Asia Pacifico (Mercati Emergenti e Sviluppati escl. Giappone)\",\n  \"ISCI9\": \"Azionari Asia Pacifico (Mercati Emergenti e Sviluppati escl. Giappone) - Growth\",\n  \"ISCI10\": \"Azionari Asia Pacifico (Mercati Emergenti e Sviluppati escl. Giappone) - Value\",\n  \"ISCI11\": \"Azionari Asia Pacifico (Mercati Emergenti e Sviluppati)\",\n  \"IBSC520\": \"Azionari Asia Pacifico (Mercati Emergenti e Sviluppati escl. Giappone) Eur Hedged\",\n  \"ISCI14\": \"Azionari Asia Pacifico (Mercati Sviluppati)\",\n  \"ISCI7\": \"Azionari Asia Pacifico - Mid & Small Cap\",\n  \"ISCI25\": \"Azionari Europa (Mercati Emergenti e Sviluppati)\",\n  \"ISCI26\": \"Azionari Europa (Mercati Emergenti esclusa Russia)\",\n  \"ISCI27\": \"Azionari Europa (Mercati Emergenti)\",\n  \"ISCI28\": \"Azionari Europa (Mercati Sviluppati escl. Regno Unito) - Large & Mid Cap\",\n  \"ISCI29\": \"Azionari Europa (Mercati Sviluppati escl. Regno Unito) - Mid & Small Cap\",\n  \"ISCI30\": \"Azionari Europa (Mercati Sviluppati) - Large & Mid Cap\",\n  \"ISCI31\": \"Azionari Europa (Mercati Sviluppati) - Large & Mid Cap Growth\",\n  \"ISCI32\": \"Azionari Europa (Mercati Sviluppati) - Large & Mid Cap Value\",\n  \"ISCI33\": \"Azionari Europa (Mercati Sviluppati) - Mid & Small Cap\",\n  \"ISCI34\": \"Azionari Europa (Mercati Sviluppati) - Mid & Small Cap Growth\",\n  \"ISCI251\": \"Azionari Giappone - Euro Hedged\",\n  \"ISCI40\": \"Azionari Giappone - Large & Mid Cap Growth\",\n  \"ISCI41\": \"Azionari Giappone - Large & Mid Cap Value\",\n  \"ISCI45\": \"Azionari Globali (Mercati Emergenti e Sviluppati) - Large & Mid Cap Growth\",\n  \"ISCI46\": \"Azionari Globali (Mercati Emergenti e Sviluppati) - Large & Mid Cap Value\",\n  \"ISCI48\": \"Azionari Globali (Mercati Emergenti) - Large & Mid Cap Growth\",\n  \"ISCI49\": \"Azionari Globali (Mercati Emergenti) - Large & Mid Cap Value\",\n  \"ISCI62\": \"Azionari Italia - Large & Mid Cap Value\",\n  \"ISCI71\": \"Azionari Regno Unito - Large & Mid Cap Value\",\n  \"ISCI325\": \"Azionari Settoriali - Agricoltura\",\n  \"ISCI76\": \"Azionari Settoriali - Beni di Consumo Secondari (incl. Beni di Lusso)\",\n  \"ISCI74\": \"Azionari Settoriali - Beni di Consumo Primari\",\n  \"ISCI80\": \"Azionari Settoriali - Energia\",\n  \"ISCI81\": \"Azionari Settoriali - Energie Alternative\",\n  \"ISCI85\": \"Azionari Settoriali - Finanza (Globale)\",\n  \"ISCI86\": \"Azionari Settoriali - Immobiliare (America)\",\n  \"ISCI87\": \"Azionari Settoriali - Immobiliare (Asia Pacifico)\",\n  \"ISCI88\": \"Azionari Settoriali - Immobiliare (Europa)\",\n  \"ISCI92\": \"Azionari Settoriali - Informatica e Tecnologia (Globale)\",\n  \"ISCI693\": \"Azionari Settoriali - Robotica (Globale)\",\n  \"ISCI94\": \"Azionari Settoriali - TMT (Informatica, Telecom., Media)\",\n  \"ISCI110\": \"Azionari Usa - Large & Mid Cap\",\n  \"ISCI111\": \"Azionari Usa - Large & Mid Cap Growth\",\n  \"ISCI112\": \"Azionari Usa - Large & Mid Cap Value\",\n  \"ISCI113\": \"Azionari Usa - Mid & Small Cap\",\n  \"ISCI114\": \"Azionari Usa - Mid & Small Cap Growth\",\n  \"ISCI115\": \"Azionari Usa - Mid & Small Cap Value\",\n  \"ISCI326\": \"Commodities\",\n  \"ISCI129\": \"Monetari Euro\",\n  \"ISCI197\": \"Obbligazionari Euro Hedged Globali - High Yield\",\n  \"ISCI193\": \"Obbligazionari Euro Hedged Mercati Emergenti\",\n  \"ISCI194\": \"Obbligazionari Euro Hedged Usa\",\n  \"ISCI196\": \"Obbligazionari Euro Hedged Usa Corporate High Yield\",\n  \"ISCI132\": \"Obbligazionari America Latina\",\n  \"ISCI143\": \"Obbligazionari Area Euro - Governativi\",\n  \"ISCI205\": \"Obbligazionari Area Euro - Governativi (Oltre 10 anni)\",\n  \"ISCI144\": \"Obbligazionari Area Euro - Governativi (1-3 Anni)\",\n  \"ISCI204\": \"Obbligazionari Area Euro - Governativi (3-5 Anni)\",\n  \"ISCI145\": \"Obbligazionari Area Euro - Governativi (5-10 Anni)\",\n  \"ISCI134\": \"Obbligazionari Asia Pacifico\",\n  \"ISCI679\": \"Obbligazionari Convertibili Globali - Euro Hedged\",\n  \"ISCI137\": \"Obbligazionari Convertibili Globali\",\n  \"ISCI140\": \"Obbligazionari Euro - Corporate\",\n  \"ISCI152\": \"Obbligazionari Europa (Mercati Emergenti)\",\n  \"ISCI150\": \"Obbligazionari Europa - Corporate e Governativi High Yield\",\n  \"ISCI160\": \"Obbligazionari Globali - Corporate e Governativi High Yield\",\n  \"ISCI199\": \"Obbligazionari Globali (Mercati Emergenti) - Corporate\",\n  \"ISCI164\": \"Obbligazionari Globali (Mercati Sviluppati) - Corporate High Yield\",\n  \"ISCI163\": \"Obbligazionari Globali - Governativi\",\n  \"ISCI158\": \"Obbligazionari Globali - Inflation Linked\",\n  \"ISCI830\": \"Obbligazionari USA - Corporate\",\n  \"ISCI174\": \"Obbligazionari USA - Governativi\",\n  \"ISCI175\": \"Obbligazionari USA - Governativi (Breve-Medio Term.)\",\n  \"ISCI176\": \"Obbligazionari USA - Governativi (Medio-Lungo Term.)\",\n  \"ISCI156\": \"Obbligazionari Yen Giapponese\"\n}\n"
     ]
    }
   ],
   "source": [
    "df = pd.read_csv(\"lista.csv\", delimiter=\";\")\n",
    "asset_dict = dict()\n",
    "\n",
    "for index, row in df.iterrows():\n",
    "    asset_dict[row[\"codice\"]] = row[\"asset\"]\n",
    "\n",
    "print(json.dumps(asset_dict, indent=2))\n"
   ]
  },
  {
   "cell_type": "code",
   "execution_count": 35,
   "metadata": {
    "collapsed": true
   },
   "outputs": [
    {
     "name": "stdout",
     "output_type": "stream",
     "text": [
      "IBSC520\nISCI10\nISCI110\nISCI111\nISCI112\n"
     ]
    },
    {
     "name": "stdout",
     "output_type": "stream",
     "text": [
      "ISCI113\nISCI114\nISCI115\nISCI11\nISCI129\nISCI132\n"
     ]
    },
    {
     "name": "stdout",
     "output_type": "stream",
     "text": [
      "ISCI134\nISCI140\nISCI143\nISCI144\nISCI145\nISCI14"
     ]
    },
    {
     "name": "stdout",
     "output_type": "stream",
     "text": [
      "\nISCI150\nISCI152\nISCI156\nISCI158\nISCI160\n"
     ]
    },
    {
     "name": "stdout",
     "output_type": "stream",
     "text": [
      "ISCI163\nISCI164\nISCI174\nISCI175\nISCI176\nISCI193\nISCI194"
     ]
    },
    {
     "name": "stdout",
     "output_type": "stream",
     "text": [
      "\nISCI196\nISCI197\nISCI199\nISCI204\nISCI205"
     ]
    },
    {
     "name": "stdout",
     "output_type": "stream",
     "text": [
      "\nISCI251\nISCI25\nISCI26\nISCI27\nISCI28\n"
     ]
    },
    {
     "name": "stdout",
     "output_type": "stream",
     "text": [
      "ISCI29\nISCI2\nISCI30\nISCI31\nISCI329\nISCI32\n"
     ]
    },
    {
     "name": "stdout",
     "output_type": "stream",
     "text": [
      "ISCI33\nISCI34\nISCI41\nISCI45\nISCI46\nISCI48\n"
     ]
    },
    {
     "name": "stdout",
     "output_type": "stream",
     "text": [
      "ISCI49\nISCI4\nISCI5\nISCI62\nISCI679\nISCI6\n"
     ]
    },
    {
     "name": "stdout",
     "output_type": "stream",
     "text": [
      "ISCI71\nISCI74\nISCI76\nISCI7\nISCI80\nISCI81\nISCI85\n"
     ]
    },
    {
     "name": "stdout",
     "output_type": "stream",
     "text": [
      "ISCI86\nISCI87\nISCI88\nISCI8\nISCI92\nISCI94\n"
     ]
    },
    {
     "name": "stdout",
     "output_type": "stream",
     "text": [
      "ISCI9\nIBSC520    float64\nISCI10     float64\nISCI110    float64\nISCI111    float64\nISCI112    float64\nISCI113    float64\nISCI114    float64\nISCI115    float64\nISCI11     float64\nISCI129    float64\nISCI132    float64\nISCI134    float64\nISCI140    float64\nISCI143    float64\nISCI144    float64\nISCI145    float64\nISCI14     float64\nISCI150    float64\nISCI152    float64\nISCI156    float64\nISCI158    float64\nISCI160    float64\nISCI163    float64\nISCI164    float64\nISCI174    float64\nISCI175    float64\nISCI176    float64\nISCI193    float64\nISCI194    float64\nISCI196    float64\n            ...   \nISCI30     float64\nISCI31     float64\nISCI329    float64\nISCI32     float64\nISCI33     float64\nISCI34     float64\nISCI41     float64\nISCI45     float64\nISCI46     float64\nISCI48     float64\nISCI49     float64\nISCI4      float64\nISCI5      float64\nISCI62     float64\nISCI679    float64\nISCI6      float64\nISCI71     float64\nISCI74     float64\nISCI76     float64\nISCI7      float64\nISCI80     float64\nISCI81     float64\nISCI85     float64\nISCI86     float64\nISCI87     float64\nISCI88     float64\nISCI8      float64\nISCI92     float64\nISCI94     float64\nISCI9      float64\nLength: 71, dtype: object\n"
     ]
    }
   ],
   "source": [
    "price_df = pd.DataFrame()\n",
    "start_date = \"2007-01-02\"\n",
    "end_date = \"2019-01-29\"\n",
    "path = \"data/\"\n",
    "for fname in os.listdir(path):\n",
    "    if re.search(r'\\.csv$', fname):\n",
    "        name = fname.split(\"_\")[0].replace(\".csv\", \" \")\n",
    "        df = pd.read_csv(path+\"/\"+fname)\n",
    "        df.columns = ['date', name]\n",
    "        df = df[(df['date'] >= start_date) & (df['date'] <= end_date)]\n",
    "        if df.iloc[0][\"date\"] == start_date and \\\n",
    "                df.iloc[len(df)-1][\"date\"] == end_date: \n",
    "            print(name)\n",
    "            df[name] = df[name].apply(lambda x: round(x, 3))\n",
    "            if price_df.empty:\n",
    "                price_df = df\n",
    "            else:\n",
    "                price_df = price_df.join(df.set_index('date'), on='date').dropna()\n",
    "price_df = price_df.set_index('date')\n",
    "print(price_df.dtypes)\n"
   ]
  },
  {
   "cell_type": "code",
   "execution_count": 65,
   "metadata": {
    "collapsed": false
   },
   "outputs": [
    {
     "name": "stdout",
     "output_type": "stream",
     "text": [
      "{'IBSC520': 0.0, 'ISCI10': 0.0, 'ISCI110': 0.0, 'ISCI111': 0.0, 'ISCI112': 0.0, 'ISCI113': 0.0, 'ISCI114': 0.0, 'ISCI115': 0.0, 'ISCI11': 0.0, 'ISCI129': 0.0, 'ISCI132': 0.0, 'ISCI134': 0.0, 'ISCI140': 0.0, 'ISCI143': 0.0, 'ISCI144': 0.0, 'ISCI145': 0.0, 'ISCI14': 0.0, 'ISCI150': 0.0, 'ISCI152': 0.0, 'ISCI156': 0.0, 'ISCI158': 0.0, 'ISCI160': 0.0, 'ISCI163': 0.0, 'ISCI164': 0.0, 'ISCI174': 0.0, 'ISCI175': 0.0, 'ISCI176': 0.0, 'ISCI193': 0.0, 'ISCI194': 0.0, 'ISCI196': 0.0, 'ISCI197': 0.0, 'ISCI199': 0.0, 'ISCI204': 0.0, 'ISCI205': 0.0, 'ISCI251': 0.0, 'ISCI25': 0.0, 'ISCI26': 0.0, 'ISCI27': 0.0, 'ISCI28': 0.0, 'ISCI29': 0.0, 'ISCI2': 0.0, 'ISCI30': 0.0, 'ISCI31': 0.0, 'ISCI329': 0.0, 'ISCI32': 0.0, 'ISCI33': 0.0, 'ISCI34': 0.0, 'ISCI41': 0.0, 'ISCI45': 0.0, 'ISCI46': 0.0, 'ISCI48': 0.0, 'ISCI49': 0.0, 'ISCI4': 0.0, 'ISCI5': 0.0, 'ISCI62': 0.0, 'ISCI679': 0.0, 'ISCI6': 0.0, 'ISCI71': 0.0, 'ISCI74': 0.0, 'ISCI76': 0.0, 'ISCI7': 0.0, 'ISCI80': 0.0, 'ISCI81': 0.0, 'ISCI85': 0.0, 'ISCI86': 0.0, 'ISCI87': 0.0, 'ISCI88': 0.0, 'ISCI8': 0.0, 'ISCI92': 1.0, 'ISCI94': 0.0, 'ISCI9': 0.0}\nExpected annual return: 9.6%\nAnnual volatility: 16.9%\nSharpe Ratio: 0.43\n"
     ]
    },
    {
     "data": {
      "text/plain": [
       "(0.09596746801872244, 0.16854445638362264, 0.43072658958188165)"
      ]
     },
     "execution_count": 65,
     "metadata": {},
     "output_type": "execute_result"
    }
   ],
   "source": [
    "mu = expected_returns.mean_historical_return(price_df)\n",
    "S = risk_models.sample_cov(price_df)\n",
    "\n",
    "# Optimise for maximal Sharpe ratio\n",
    "ef = EfficientFrontier(mu, S)\n",
    "raw_weights = ef.efficient_return(target_return=0.1)\n",
    "cleaned_weights = ef.clean_weights()\n",
    "print(cleaned_weights)\n",
    "ef.portfolio_performance(verbose=True)\n"
   ]
  },
  {
   "cell_type": "code",
   "execution_count": null,
   "metadata": {},
   "outputs": [],
   "source": []
  }
 ],
 "metadata": {
  "kernelspec": {
   "display_name": "Python 2",
   "language": "python",
   "name": "python2"
  },
  "language_info": {
   "codemirror_mode": {
    "name": "ipython",
    "version": 2
   },
   "file_extension": ".py",
   "mimetype": "text/x-python",
   "name": "python",
   "nbconvert_exporter": "python",
   "pygments_lexer": "ipython2",
   "version": "2.7.6"
  }
 },
 "nbformat": 4,
 "nbformat_minor": 0
}
